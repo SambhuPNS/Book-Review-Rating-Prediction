{
 "cells": [
  {
   "cell_type": "markdown",
   "id": "e948a9dc",
   "metadata": {},
   "source": [
    "# Testing and Predicting with the given dataset"
   ]
  },
  {
   "cell_type": "code",
   "execution_count": 1,
   "id": "3970230d",
   "metadata": {},
   "outputs": [],
   "source": [
    "#importing requied libraries\n",
    "import pandas as pd\n",
    "import joblib\n",
    "from sklearn.feature_extraction.text import TfidfVectorizer\n",
    "from sklearn.preprocessing import StandardScaler\n",
    "from sklearn.preprocessing import StandardScaler"
   ]
  },
  {
   "cell_type": "code",
   "execution_count": 2,
   "id": "52798f06",
   "metadata": {},
   "outputs": [
    {
     "data": {
      "text/html": [
       "<div>\n",
       "<style scoped>\n",
       "    .dataframe tbody tr th:only-of-type {\n",
       "        vertical-align: middle;\n",
       "    }\n",
       "\n",
       "    .dataframe tbody tr th {\n",
       "        vertical-align: top;\n",
       "    }\n",
       "\n",
       "    .dataframe thead th {\n",
       "        text-align: right;\n",
       "    }\n",
       "</style>\n",
       "<table border=\"1\" class=\"dataframe\">\n",
       "  <thead>\n",
       "    <tr style=\"text-align: right;\">\n",
       "      <th></th>\n",
       "      <th>review_id</th>\n",
       "      <th>review_text</th>\n",
       "    </tr>\n",
       "  </thead>\n",
       "  <tbody>\n",
       "    <tr>\n",
       "      <th>0</th>\n",
       "      <td>606d3b7ba5cc90e4069b1e225b84deea</td>\n",
       "      <td>cute sweet stori girl travel neverland fall ca...</td>\n",
       "    </tr>\n",
       "    <tr>\n",
       "      <th>1</th>\n",
       "      <td>70388d316638176b827ea060839971ef</td>\n",
       "      <td>plot regurgit coupl call fantasi fiction ficti...</td>\n",
       "    </tr>\n",
       "    <tr>\n",
       "      <th>2</th>\n",
       "      <td>840a4fb63336a3fc2213e5016cafbca2</td>\n",
       "      <td>star contemporari romanc</td>\n",
       "    </tr>\n",
       "    <tr>\n",
       "      <th>3</th>\n",
       "      <td>6c5865dc54856d1dcb317c3dd42215a8</td>\n",
       "      <td>anoth king ive read mani year ago back day rea...</td>\n",
       "    </tr>\n",
       "    <tr>\n",
       "      <th>4</th>\n",
       "      <td>0fdf6c933c0b299ebf5053b8d9a2f950</td>\n",
       "      <td>good good took suck convinc begin resist long ...</td>\n",
       "    </tr>\n",
       "  </tbody>\n",
       "</table>\n",
       "</div>"
      ],
      "text/plain": [
       "                          review_id  \\\n",
       "0  606d3b7ba5cc90e4069b1e225b84deea   \n",
       "1  70388d316638176b827ea060839971ef   \n",
       "2  840a4fb63336a3fc2213e5016cafbca2   \n",
       "3  6c5865dc54856d1dcb317c3dd42215a8   \n",
       "4  0fdf6c933c0b299ebf5053b8d9a2f950   \n",
       "\n",
       "                                         review_text  \n",
       "0  cute sweet stori girl travel neverland fall ca...  \n",
       "1  plot regurgit coupl call fantasi fiction ficti...  \n",
       "2                           star contemporari romanc  \n",
       "3  anoth king ive read mani year ago back day rea...  \n",
       "4  good good took suck convinc begin resist long ...  "
      ]
     },
     "execution_count": 2,
     "metadata": {},
     "output_type": "execute_result"
    }
   ],
   "source": [
    "# Load your dataset\n",
    "test_df = pd.read_csv('cleaned_test.csv') \n",
    "test_df.head()"
   ]
  },
  {
   "cell_type": "code",
   "execution_count": 3,
   "id": "21ae18ec",
   "metadata": {},
   "outputs": [],
   "source": [
    "# Handle missing values in 'review_text' for the test set\n",
    "test_df['review_text'].fillna('', inplace=True)"
   ]
  },
  {
   "cell_type": "code",
   "execution_count": 4,
   "id": "82ae6b8b",
   "metadata": {},
   "outputs": [],
   "source": [
    "# Load the TF-IDF vectorizer fitted on the training data\n",
    "vectorizer = joblib.load('tfidf_vectorizer_v3.joblib')\n",
    "# Transform the test data using the fitted vectorizer\n",
    "X_test_vectorized = vectorizer.transform(test_df['review_text'])"
   ]
  },
  {
   "cell_type": "markdown",
   "id": "41c1280f",
   "metadata": {},
   "source": [
    "## Predicting"
   ]
  },
  {
   "cell_type": "code",
   "execution_count": 5,
   "id": "5c5a5cc9",
   "metadata": {},
   "outputs": [],
   "source": [
    "# Load the saved Logistic Regression model\n",
    "loaded_model = joblib.load('logistic_regression_model_v3.joblib')\n",
    "# Make predictions on the test set\n",
    "test_predictions = loaded_model.predict(X_test_vectorized)"
   ]
  },
  {
   "cell_type": "code",
   "execution_count": 6,
   "id": "76677672",
   "metadata": {},
   "outputs": [
    {
     "data": {
      "text/plain": [
       "Index(['review_id', 'review_text'], dtype='object')"
      ]
     },
     "execution_count": 6,
     "metadata": {},
     "output_type": "execute_result"
    }
   ],
   "source": [
    "test_df.columns"
   ]
  },
  {
   "cell_type": "code",
   "execution_count": 7,
   "id": "04cd5b0d",
   "metadata": {},
   "outputs": [],
   "source": [
    "# Create a DataFrame with 'review_id' and 'rating'\n",
    "result_df = pd.DataFrame({'review_id': test_df['review_id'], 'rating': test_predictions})\n",
    "# Save the result to a CSV file\n",
    "result_df.to_csv('prediction_results_v3.csv', index=False)"
   ]
  },
  {
   "cell_type": "markdown",
   "id": "5d8610f3",
   "metadata": {},
   "source": [
    "## END"
   ]
  }
 ],
 "metadata": {
  "kernelspec": {
   "display_name": "Python 3 (ipykernel)",
   "language": "python",
   "name": "python3"
  },
  "language_info": {
   "codemirror_mode": {
    "name": "ipython",
    "version": 3
   },
   "file_extension": ".py",
   "mimetype": "text/x-python",
   "name": "python",
   "nbconvert_exporter": "python",
   "pygments_lexer": "ipython3",
   "version": "3.10.13"
  }
 },
 "nbformat": 4,
 "nbformat_minor": 5
}
