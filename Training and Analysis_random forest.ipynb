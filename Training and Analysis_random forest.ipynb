{
 "cells": [
  {
   "cell_type": "code",
   "execution_count": 10,
   "id": "fe1bdd61",
   "metadata": {},
   "outputs": [],
   "source": [
    "#importing libraries\n",
    "import pandas as pd\n",
    "from sklearn.model_selection import train_test_split\n",
    "from sklearn.feature_extraction.text import TfidfVectorizer\n",
    "from sklearn.ensemble import RandomForestRegressor\n",
    "from sklearn.metrics import mean_squared_error\n",
    "import time"
   ]
  },
  {
   "cell_type": "code",
   "execution_count": 3,
   "id": "9e82f927",
   "metadata": {},
   "outputs": [
    {
     "data": {
      "text/html": [
       "<div>\n",
       "<style scoped>\n",
       "    .dataframe tbody tr th:only-of-type {\n",
       "        vertical-align: middle;\n",
       "    }\n",
       "\n",
       "    .dataframe tbody tr th {\n",
       "        vertical-align: top;\n",
       "    }\n",
       "\n",
       "    .dataframe thead th {\n",
       "        text-align: right;\n",
       "    }\n",
       "</style>\n",
       "<table border=\"1\" class=\"dataframe\">\n",
       "  <thead>\n",
       "    <tr style=\"text-align: right;\">\n",
       "      <th></th>\n",
       "      <th>review_text</th>\n",
       "      <th>rating</th>\n",
       "    </tr>\n",
       "    <tr>\n",
       "      <th>review_id</th>\n",
       "      <th></th>\n",
       "      <th></th>\n",
       "    </tr>\n",
       "  </thead>\n",
       "  <tbody>\n",
       "    <tr>\n",
       "      <th>e8cb23191d6c27e930243a08ff826395</th>\n",
       "      <td>realli meant get landlin check one reason coul...</td>\n",
       "      <td>4</td>\n",
       "    </tr>\n",
       "    <tr>\n",
       "      <th>953dfd48b372f081b5f82ce1def753f7</th>\n",
       "      <td>updat make maximum ride movi look terribl http...</td>\n",
       "      <td>4</td>\n",
       "    </tr>\n",
       "    <tr>\n",
       "      <th>48509a6f6128d4f2ca243e04a0cdc896</th>\n",
       "      <td>feel like ive read mani urban fantasi book get...</td>\n",
       "      <td>3</td>\n",
       "    </tr>\n",
       "    <tr>\n",
       "      <th>a09f7ff4eca0c8c2fbaacf4baf6b114f</th>\n",
       "      <td>reread decemb simpli fantast read full humor m...</td>\n",
       "      <td>5</td>\n",
       "    </tr>\n",
       "    <tr>\n",
       "      <th>93b0128f768ee9c1af8864f566e3a7b6</th>\n",
       "      <td>big ass dnf ughhh im mad pick even care book o...</td>\n",
       "      <td>1</td>\n",
       "    </tr>\n",
       "  </tbody>\n",
       "</table>\n",
       "</div>"
      ],
      "text/plain": [
       "                                                                        review_text  \\\n",
       "review_id                                                                             \n",
       "e8cb23191d6c27e930243a08ff826395  realli meant get landlin check one reason coul...   \n",
       "953dfd48b372f081b5f82ce1def753f7  updat make maximum ride movi look terribl http...   \n",
       "48509a6f6128d4f2ca243e04a0cdc896  feel like ive read mani urban fantasi book get...   \n",
       "a09f7ff4eca0c8c2fbaacf4baf6b114f  reread decemb simpli fantast read full humor m...   \n",
       "93b0128f768ee9c1af8864f566e3a7b6  big ass dnf ughhh im mad pick even care book o...   \n",
       "\n",
       "                                  rating  \n",
       "review_id                                 \n",
       "e8cb23191d6c27e930243a08ff826395       4  \n",
       "953dfd48b372f081b5f82ce1def753f7       4  \n",
       "48509a6f6128d4f2ca243e04a0cdc896       3  \n",
       "a09f7ff4eca0c8c2fbaacf4baf6b114f       5  \n",
       "93b0128f768ee9c1af8864f566e3a7b6       1  "
      ]
     },
     "execution_count": 3,
     "metadata": {},
     "output_type": "execute_result"
    }
   ],
   "source": [
    "df = pd.read_csv('cleaned_train.csv',header=0,index_col=0)\n",
    "df.head()"
   ]
  },
  {
   "cell_type": "code",
   "execution_count": 12,
   "id": "1e8871ae",
   "metadata": {},
   "outputs": [],
   "source": [
    "df.shape\n",
    "df = df.dropna(subset=['review_text', 'rating'])"
   ]
  },
  {
   "cell_type": "code",
   "execution_count": 13,
   "id": "f7190a0c",
   "metadata": {},
   "outputs": [
    {
     "name": "stdout",
     "output_type": "stream",
     "text": [
      "Training set size: 503882\n",
      "Testing set size: 125971\n"
     ]
    }
   ],
   "source": [
    "# Split the data into features (X) and target (y)\n",
    "X = df['review_text']\n",
    "y = df['rating']\n",
    "\n",
    "# Split the data into training and testing sets (80% training, 20% testing)\n",
    "X_train, X_test, y_train, y_test = train_test_split(X, y, test_size=0.2, random_state=42)\n",
    "\n",
    "# Print the sizes of the training and testing sets\n",
    "print(\"Training set size:\", len(X_train))\n",
    "print(\"Testing set size:\", len(X_test))"
   ]
  },
  {
   "cell_type": "code",
   "execution_count": 14,
   "id": "68e7597d",
   "metadata": {},
   "outputs": [],
   "source": [
    "# Check for and handle missing values in X_train\n",
    "X_train = X_train.fillna('')\n",
    "# Vectorize the text data using TF-IDF\n",
    "vectorizer = TfidfVectorizer(max_features=500)  # Adjust max_features as needed\n",
    "X_train_vectorized = vectorizer.fit_transform(X_train)\n",
    "X_test_vectorized = vectorizer.transform(X_test)\n",
    "\n",
    "\n"
   ]
  },
  {
   "cell_type": "code",
   "execution_count": null,
   "id": "da749999",
   "metadata": {},
   "outputs": [],
   "source": [
    "# Record the start time\n",
    "start_time = time.time()\n",
    "\n",
    "# Build and train a Random Forest Regressor\n",
    "model = RandomForestRegressor(n_estimators=100, random_state=42)\n",
    "model.fit(X_train_vectorized, y_train)\n",
    "# Make predictions on the test set\n",
    "y_pred = model.predict(X_test_vectorized)\n",
    "\n",
    "# Record the end time\n",
    "end_time = time.time()\n",
    "# Calculate and print the training time\n",
    "training_time = end_time - start_time\n",
    "print(\"Training Time:\", training_time, \"seconds\")"
   ]
  },
  {
   "cell_type": "code",
   "execution_count": null,
   "id": "db26cbb6",
   "metadata": {},
   "outputs": [],
   "source": [
    "# Evaluate the model\n",
    "mse = mean_squared_error(y_test, y_pred)\n",
    "print(\"Mean Squared Error:\", mse)\n"
   ]
  }
 ],
 "metadata": {
  "kernelspec": {
   "display_name": "Python 3 (ipykernel)",
   "language": "python",
   "name": "python3"
  },
  "language_info": {
   "codemirror_mode": {
    "name": "ipython",
    "version": 3
   },
   "file_extension": ".py",
   "mimetype": "text/x-python",
   "name": "python",
   "nbconvert_exporter": "python",
   "pygments_lexer": "ipython3",
   "version": "3.10.13"
  }
 },
 "nbformat": 4,
 "nbformat_minor": 5
}
