{
 "cells": [
  {
   "cell_type": "markdown",
   "id": "d689398b",
   "metadata": {},
   "source": [
    "# Data Cleaning and Preprocessing Notebook"
   ]
  },
  {
   "cell_type": "code",
   "execution_count": null,
   "id": "c6d66bbd",
   "metadata": {},
   "outputs": [],
   "source": [
    "#importing libraries\n",
    "import pandas as pd\n",
    "import re\n",
    "import nltk\n",
    "from nltk.corpus import stopwords\n",
    "from nltk.stem import PorterStemmer\n",
    "from nltk.tokenize import word_tokenize"
   ]
  },
  {
   "cell_type": "code",
   "execution_count": 2,
   "id": "daea7f9a",
   "metadata": {},
   "outputs": [
    {
     "name": "stdout",
     "output_type": "stream",
     "text": [
      "                            user_id   book_id  \\\n",
      "0  327858f6d967ef1567459b84252ac71a   8909152   \n",
      "1  b1bb017c681370fddd19bab11f4eb22a     13152   \n",
      "2  6fb896f0ccaeb445e2c9f580bff8f65d   9533378   \n",
      "3  2edbb0dcf49ad138ef79bd6b5f4ba390     12067   \n",
      "4  cc3ce566b0313a2f02d6ab246c990bce  20443207   \n",
      "\n",
      "                          review_id  \\\n",
      "0  e8cb23191d6c27e930243a08ff826395   \n",
      "1  953dfd48b372f081b5f82ce1def753f7   \n",
      "2  48509a6f6128d4f2ca243e04a0cdc896   \n",
      "3  a09f7ff4eca0c8c2fbaacf4baf6b114f   \n",
      "4  93b0128f768ee9c1af8864f566e3a7b6   \n",
      "\n",
      "                                         review_text  \\\n",
      "0  Really, I meant to get Landline when I checked...   \n",
      "1  Update - 01/08/2016 They are making a Maximum ...   \n",
      "2  I feel like I've read so many Urban Fantasy bo...   \n",
      "3  Reread in December 2009. \\n Simply a fantastic...   \n",
      "4  BIG ASS DNF \\n Ughhh. I'm so mad at myself for...   \n",
      "\n",
      "                       date_added                    date_updated  \\\n",
      "0  Mon Aug 24 10:09:11 -0700 2015  Mon Aug 24 18:50:11 -0700 2015   \n",
      "1  Sun Jun 16 01:49:16 -0700 2013  Sat Oct 22 04:08:59 -0700 2016   \n",
      "2  Tue Nov 08 21:15:28 -0800 2016  Wed Dec 28 16:40:44 -0800 2016   \n",
      "3  Thu Oct 08 08:21:11 -0700 2009  Sat Jan 02 07:32:11 -0800 2010   \n",
      "4  Thu Jan 28 02:16:44 -0800 2016  Thu Jan 28 02:35:30 -0800 2016   \n",
      "\n",
      "                          read_at started_at  n_votes  n_comments  rating  \n",
      "0  Sat Aug 22 00:00:00 -0700 2015        NaN        1           2       4  \n",
      "1                             NaN        NaN        1           0       4  \n",
      "2  Sun Nov 13 00:00:00 -0800 2016        NaN        1           0       3  \n",
      "3  Sat Jan 02 00:00:00 -0800 2010        NaN        1           0       5  \n",
      "4                             NaN        NaN        7           3       1  \n"
     ]
    }
   ],
   "source": [
    "#loading file\n",
    "file_path = 'Train.csv'\n",
    "df = pd.read_csv(file_path)\n",
    "print(df.head())"
   ]
  },
  {
   "cell_type": "code",
   "execution_count": 3,
   "id": "f91b11ff",
   "metadata": {},
   "outputs": [
    {
     "name": "stdout",
     "output_type": "stream",
     "text": [
      "                          review_id  \\\n",
      "0  e8cb23191d6c27e930243a08ff826395   \n",
      "1  953dfd48b372f081b5f82ce1def753f7   \n",
      "2  48509a6f6128d4f2ca243e04a0cdc896   \n",
      "3  a09f7ff4eca0c8c2fbaacf4baf6b114f   \n",
      "4  93b0128f768ee9c1af8864f566e3a7b6   \n",
      "\n",
      "                                         review_text  rating  \n",
      "0  Really, I meant to get Landline when I checked...       4  \n",
      "1  Update - 01/08/2016 They are making a Maximum ...       4  \n",
      "2  I feel like I've read so many Urban Fantasy bo...       3  \n",
      "3  Reread in December 2009. \\n Simply a fantastic...       5  \n",
      "4  BIG ASS DNF \\n Ughhh. I'm so mad at myself for...       1  \n"
     ]
    }
   ],
   "source": [
    "# Select specific columns\n",
    "selected_columns = ['review_id', 'review_text', 'rating']\n",
    "cleaned_df = df[selected_columns]\n",
    "print(cleaned_df.head())"
   ]
  },
  {
   "cell_type": "markdown",
   "id": "4dcb507d",
   "metadata": {},
   "source": [
    "## Preprocessing"
   ]
  },
  {
   "cell_type": "markdown",
   "id": "7c1aea50",
   "metadata": {},
   "source": [
    "This section focuses on preprocessing the 'review_text' column of the dataset to make it suitable for subsequent natural language processing (NLP) tasks. The preprocessing steps aim to clean and transform the text data into a format that is conducive for analysis, modeling, or other text-based applications."
   ]
  },
  {
   "cell_type": "code",
   "execution_count": 8,
   "id": "109a5d0c",
   "metadata": {
    "scrolled": true
   },
   "outputs": [
    {
     "name": "stdout",
     "output_type": "stream",
     "text": [
      "                          review_id  \\\n",
      "0  e8cb23191d6c27e930243a08ff826395   \n",
      "1  953dfd48b372f081b5f82ce1def753f7   \n",
      "2  48509a6f6128d4f2ca243e04a0cdc896   \n",
      "3  a09f7ff4eca0c8c2fbaacf4baf6b114f   \n",
      "4  93b0128f768ee9c1af8864f566e3a7b6   \n",
      "\n",
      "                                         review_text  rating  \n",
      "0  realli meant get landlin check one reason coul...       4  \n",
      "1  updat make maximum ride movi look terribl http...       4  \n",
      "2  feel like ive read mani urban fantasi book get...       3  \n",
      "3  reread decemb simpli fantast read full humor m...       5  \n",
      "4  big ass dnf ughhh im mad pick even care book o...       1  \n"
     ]
    },
    {
     "name": "stderr",
     "output_type": "stream",
     "text": [
      "C:\\Users\\acer\\AppData\\Local\\Temp\\ipykernel_34448\\3529793640.py:20: SettingWithCopyWarning: \n",
      "A value is trying to be set on a copy of a slice from a DataFrame.\n",
      "Try using .loc[row_indexer,col_indexer] = value instead\n",
      "\n",
      "See the caveats in the documentation: https://pandas.pydata.org/pandas-docs/stable/user_guide/indexing.html#returning-a-view-versus-a-copy\n",
      "  cleaned_df['review_text'] = cleaned_df['review_text'].apply(preprocess_text)\n"
     ]
    }
   ],
   "source": [
    "# Preprocess the 'review_text' column\n",
    "def preprocess_text(text):\n",
    "    # Convert to lowercase\n",
    "    text = text.lower()\n",
    "    # Remove punctuation and numbers\n",
    "    text = re.sub(r'[^a-zA-Z\\s]', '', text)\n",
    "    # Tokenization\n",
    "    tokens = word_tokenize(text)\n",
    "    # Remove stopwords\n",
    "    stop_words = set(stopwords.words('english'))\n",
    "    tokens = [word for word in tokens if word not in stop_words]\n",
    "    # Stemming (lemmatization was slow)\n",
    "    stemmer = PorterStemmer()\n",
    "    tokens = [stemmer.stem(word) for word in tokens]\n",
    "    # Join the tokens back into a string\n",
    "    processed_text = ' '.join(tokens)\n",
    "    return processed_text\n",
    "\n",
    "# Apply the preprocessing function to the 'review_text' column\n",
    "cleaned_df['review_text'] = cleaned_df['review_text'].apply(preprocess_text)\n",
    "\n",
    "# Display the first few rows of the DataFrame after preprocessing\n",
    "print(cleaned_df.head())"
   ]
  },
  {
   "cell_type": "markdown",
   "id": "2f625e5b",
   "metadata": {},
   "source": [
    "The cleaned dataset is saved on a csv file with the name cleaned_train.csv"
   ]
  },
  {
   "cell_type": "code",
   "execution_count": 12,
   "id": "ed8eaf60",
   "metadata": {},
   "outputs": [
    {
     "name": "stdout",
     "output_type": "stream",
     "text": [
      "                          review_id  \\\n",
      "0  e8cb23191d6c27e930243a08ff826395   \n",
      "1  953dfd48b372f081b5f82ce1def753f7   \n",
      "2  48509a6f6128d4f2ca243e04a0cdc896   \n",
      "3  a09f7ff4eca0c8c2fbaacf4baf6b114f   \n",
      "4  93b0128f768ee9c1af8864f566e3a7b6   \n",
      "\n",
      "                                         review_text  rating  \n",
      "0  realli meant get landlin check one reason coul...       4  \n",
      "1  updat make maximum ride movi look terribl http...       4  \n",
      "2  feel like ive read mani urban fantasi book get...       3  \n",
      "3  reread decemb simpli fantast read full humor m...       5  \n",
      "4  big ass dnf ughhh im mad pick even care book o...       1  \n"
     ]
    }
   ],
   "source": [
    "cleaned_file_path = 'cleaned_train.csv'\n",
    "cleaned_df.to_csv(cleaned_file_path, index=False)\n",
    "\n",
    "print(cleaned_df.head())"
   ]
  }
 ],
 "metadata": {
  "kernelspec": {
   "display_name": "Python 3 (ipykernel)",
   "language": "python",
   "name": "python3"
  },
  "language_info": {
   "codemirror_mode": {
    "name": "ipython",
    "version": 3
   },
   "file_extension": ".py",
   "mimetype": "text/x-python",
   "name": "python",
   "nbconvert_exporter": "python",
   "pygments_lexer": "ipython3",
   "version": "3.10.13"
  }
 },
 "nbformat": 4,
 "nbformat_minor": 5
}
